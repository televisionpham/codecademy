{
 "cells": [
  {
   "cell_type": "code",
   "execution_count": 16,
   "metadata": {},
   "outputs": [
    {
     "name": "stdout",
     "output_type": "stream",
     "text": [
      "   temperature_of_patient occurrence_of_nausea lumbar_pain urine_pushing  \\\n",
      "0                    35.5                   no         yes            no   \n",
      "1                    35.9                   no          no           yes   \n",
      "2                    35.9                   no         yes            no   \n",
      "3                    36.0                   no          no           yes   \n",
      "4                    36.0                   no         yes            no   \n",
      "\n",
      "  micturition_pains burning_swelling inflammation_of_urinary_bladder  \\\n",
      "0                no               no                              no   \n",
      "1               yes              yes                             yes   \n",
      "2                no               no                              no   \n",
      "3               yes              yes                             yes   \n",
      "4                no               no                              no   \n",
      "\n",
      "  nephritis_of_renal_pelvis_origin  \n",
      "0                               no  \n",
      "1                               no  \n",
      "2                               no  \n",
      "3                               no  \n",
      "4                               no  \n",
      "<class 'pandas.core.frame.DataFrame'>\n",
      "RangeIndex: 120 entries, 0 to 119\n",
      "Data columns (total 8 columns):\n",
      " #   Column                            Non-Null Count  Dtype  \n",
      "---  ------                            --------------  -----  \n",
      " 0   temperature_of_patient            120 non-null    float64\n",
      " 1   occurrence_of_nausea              120 non-null    object \n",
      " 2   lumbar_pain                       120 non-null    object \n",
      " 3   urine_pushing                     120 non-null    object \n",
      " 4   micturition_pains                 120 non-null    object \n",
      " 5   burning_swelling                  120 non-null    object \n",
      " 6   inflammation_of_urinary_bladder   120 non-null    object \n",
      " 7   nephritis_of_renal_pelvis_origin  120 non-null    object \n",
      "dtypes: float64(1), object(7)\n",
      "memory usage: 7.6+ KB\n",
      "None\n"
     ]
    }
   ],
   "source": [
    "import pandas as pd\n",
    "import numpy as np\n",
    "\n",
    "cols = [\"temperature_of_patient\",\n",
    "         \"occurrence_of_nausea\",\n",
    "         \"lumbar_pain\",\n",
    "         \"urine_pushing\",\n",
    "         \"micturition_pains\",\n",
    "         \"burning_swelling\",\n",
    "         \"inflammation_of_urinary_bladder\",\n",
    "         \"nephritis_of_renal_pelvis_origin\"]\n",
    "df = pd.read_csv('diagnosis.data', names=cols, sep=\"\\t\")\n",
    "print(df.head())\n",
    "print(df.info())"
   ]
  },
  {
   "cell_type": "code",
   "execution_count": 25,
   "metadata": {},
   "outputs": [
    {
     "name": "stdout",
     "output_type": "stream",
     "text": [
      "   temperature_of_patient  occurrence_of_nausea  lumbar_pain  urine_pushing  \\\n",
      "0                    35.5                     0            1              0   \n",
      "1                    35.9                     0            0              1   \n",
      "2                    35.9                     0            1              0   \n",
      "3                    36.0                     0            0              1   \n",
      "4                    36.0                     0            1              0   \n",
      "\n",
      "   micturition_pains  burning_swelling  \n",
      "0                  0                 0  \n",
      "1                  1                 1  \n",
      "2                  0                 0  \n",
      "3                  1                 1  \n",
      "4                  0                 0  \n"
     ]
    }
   ],
   "source": [
    "from sklearn.model_selection import train_test_split\n",
    "\n",
    "y1 = np.where(df.inflammation_of_urinary_bladder == \"yes\", 1, 0)\n",
    "y2 = np.where(df.nephritis_of_renal_pelvis_origin == \"yes\", 1, 0)\n",
    "x = df.drop(columns=[\"inflammation_of_urinary_bladder\", \"nephritis_of_renal_pelvis_origin\"])\n",
    "yes_no_cols = [\"occurrence_of_nausea\",\n",
    "         \"lumbar_pain\",\n",
    "         \"urine_pushing\",\n",
    "         \"micturition_pains\",\n",
    "         \"burning_swelling\"]\n",
    "for c in yes_no_cols:\n",
    "    x[c] = x[c].map({\"yes\": 1, \"no\": 0})\n",
    "print(x.head())"
   ]
  },
  {
   "cell_type": "code",
   "execution_count": 26,
   "metadata": {},
   "outputs": [],
   "source": [
    "x_train, x_test, y1_train, y1_test = train_test_split(x, y1, test_size=0.2, random_state=1)"
   ]
  },
  {
   "cell_type": "code",
   "execution_count": null,
   "metadata": {},
   "outputs": [],
   "source": []
  }
 ],
 "metadata": {
  "kernelspec": {
   "display_name": "Python 3",
   "language": "python",
   "name": "python3"
  },
  "language_info": {
   "name": "python",
   "version": "3.10.6"
  },
  "orig_nbformat": 4
 },
 "nbformat": 4,
 "nbformat_minor": 2
}
